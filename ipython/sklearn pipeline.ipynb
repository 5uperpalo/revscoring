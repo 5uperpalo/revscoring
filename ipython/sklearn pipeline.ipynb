{
 "cells": [
  {
   "cell_type": "code",
   "execution_count": 10,
   "metadata": {},
   "outputs": [
    {
     "data": {
      "text/plain": [
       "[[1778.0, 23]]"
      ]
     },
     "execution_count": 10,
     "metadata": {},
     "output_type": "execute_result"
    }
   ],
   "source": [
    "from revscoring.extractors import api\n",
    "import mwapi\n",
    "\n",
    "rev_id = 12345678\n",
    "\n",
    "extractor = api.Extractor(mwapi.Session(\"https://en.wikipedia.org\",\n",
    "                          user_agent=\"Revscoring sklearn pipeline demo awight@wikimedia.org\"),\n",
    "                          context=None,\n",
    "                          cache=None)\n",
    "\n",
    "from revscoring.features import wikitext\n",
    "feature_list = [wikitext.revision.chars,\n",
    "                wikitext.revision.diff.chars_added]\n",
    "\n",
    "feature_values = extractor.extract(rev_id, feature_list)\n",
    "\n",
    "list(feature_values)\n",
    "\n",
    "from sklearn.base import TransformerMixin\n",
    "\n",
    "class OresExtractor(TransformerMixin):\n",
    "    def __init__(self, extractor=None, features=None):\n",
    "        self.extractor = extractor\n",
    "        self.features = features\n",
    "    \n",
    "    def transform(self, X, *_):\n",
    "        for rowdata in X:\n",
    "            rev_id = X[0]\n",
    "            yield self.extractor.extract(rev_id, self.features)\n",
    "            \n",
    "    def fit(self, *_):\n",
    "        return self\n",
    "\n",
    "observations = [rev_id]\n",
    "\n",
    "step = OresExtractor(extractor=extractor, features=feature_list)\n",
    "output = step.transform(observations)\n",
    "\n",
    "list([list(e) for e in output])"
   ]
  },
  {
   "cell_type": "code",
   "execution_count": null,
   "metadata": {},
   "outputs": [],
   "source": []
  }
 ],
 "metadata": {
  "kernelspec": {
   "display_name": "Python 3",
   "language": "python",
   "name": "python3"
  },
  "language_info": {
   "codemirror_mode": {
    "name": "ipython",
    "version": 3
   },
   "file_extension": ".py",
   "mimetype": "text/x-python",
   "name": "python",
   "nbconvert_exporter": "python",
   "pygments_lexer": "ipython3",
   "version": "3.6.2"
  }
 },
 "nbformat": 4,
 "nbformat_minor": 2
}
