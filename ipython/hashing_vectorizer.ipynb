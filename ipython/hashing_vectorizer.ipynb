{
 "cells": [
  {
   "cell_type": "markdown",
   "metadata": {},
   "source": [
    "# Hashing Vectorizer example\n",
    "In this notebook, we'll experiment with HashingVectorizer by making a classifier that predicts whether a text chunk comes from the English Wikipedia articles [\"Anarchism\"](https://en.wikipedia.org/wiki/Anarchism) or [\"Anachronism\"](https://en.wikipedia.org/wiki/Anachronism)."
   ]
  },
  {
   "cell_type": "markdown",
   "metadata": {},
   "source": [
    "## Preamble\n",
    "First, let's import everything that we'll need."
   ]
  },
  {
   "cell_type": "code",
   "execution_count": 2,
   "metadata": {
    "collapsed": false
   },
   "outputs": [
    {
     "ename": "ImportError",
     "evalue": "No module named 'mwapi'",
     "output_type": "error",
     "traceback": [
      "\u001b[0;31m---------------------------------------------------------------------------\u001b[0m",
      "\u001b[0;31mImportError\u001b[0m                               Traceback (most recent call last)",
      "\u001b[0;32m<ipython-input-2-696f98572680>\u001b[0m in \u001b[0;36m<module>\u001b[0;34m()\u001b[0m\n\u001b[1;32m      1\u001b[0m \u001b[0;32mimport\u001b[0m \u001b[0mrandom\u001b[0m\u001b[0;34m\u001b[0m\u001b[0m\n\u001b[1;32m      2\u001b[0m \u001b[0;34m\u001b[0m\u001b[0m\n\u001b[0;32m----> 3\u001b[0;31m \u001b[0;32mimport\u001b[0m \u001b[0mmwapi\u001b[0m\u001b[0;34m\u001b[0m\u001b[0m\n\u001b[0m\u001b[1;32m      4\u001b[0m \u001b[0;32mimport\u001b[0m \u001b[0mmwparserfromhell\u001b[0m \u001b[0;32mas\u001b[0m \u001b[0mmwparser\u001b[0m\u001b[0;34m\u001b[0m\u001b[0m\n\u001b[1;32m      5\u001b[0m \u001b[0;32mfrom\u001b[0m \u001b[0msklearn\u001b[0m\u001b[0;34m.\u001b[0m\u001b[0mensemble\u001b[0m \u001b[0;32mimport\u001b[0m \u001b[0mGradientBoostingClassifier\u001b[0m\u001b[0;34m\u001b[0m\u001b[0m\n",
      "\u001b[0;31mImportError\u001b[0m: No module named 'mwapi'"
     ]
    }
   ],
   "source": [
    "import random\n",
    "\n",
    "import mwapi\n",
    "import mwparserfromhell as mwparser\n",
    "from sklearn.ensemble import GradientBoostingClassifier\n",
    "from sklearn.feature_extraction.text import HashingVectorizer"
   ]
  },
  {
   "cell_type": "markdown",
   "metadata": {},
   "source": [
    "## Get the text from the API"
   ]
  },
  {
   "cell_type": "code",
   "execution_count": 3,
   "metadata": {
    "collapsed": false
   },
   "outputs": [],
   "source": [
    "session = mwapi.Session(\"https://en.wikipedia.org\", \n",
    "                        user_agent=\"Hashing vectorizer example <aaron.halfaker@gmail.com>\")\n",
    "\n",
    "doc = session.get(action=\"query\", prop=\"revisions\", titles=[\"Anarchism\", \"Anachronism\"], rvprop=['content'])\n",
    "\n",
    "anarchism_text = doc['query']['pages']['12']['revisions'][0]['*']\n",
    "anarchonism_text = doc['query']['pages']['60731']['revisions'][0]['*']"
   ]
  },
  {
   "cell_type": "markdown",
   "metadata": {},
   "source": [
    "## Build up a set of observations"
   ]
  },
  {
   "cell_type": "code",
   "execution_count": 4,
   "metadata": {
    "collapsed": false
   },
   "outputs": [
    {
     "name": "stdout",
     "output_type": "stream",
     "text": [
      "anarchism paragraphs: 1432\n",
      "anachronism paragraphs: 120\n"
     ]
    }
   ],
   "source": [
    "observations = []\n",
    "for text_chunk in mwparser.parse(anarchism_text).filter_text():\n",
    "    text = text_chunk.value\n",
    "    if len(text) > 25:\n",
    "        observations.append((text, \"anarchism\"))\n",
    "for text_chunk in mwparser.parse(anarchonism_text).filter_text():\n",
    "    text = text_chunk.value\n",
    "    if len(text) > 25:\n",
    "        observations.append((text, \"anachronism\"))\n",
    "\n",
    "print(\"anarchism paragraphs:\", sum(1 for _, label in observations if label == \"anarchism\"))\n",
    "print(\"anachronism paragraphs:\", sum(1 for _, label in observations if label == \"anachronism\"))"
   ]
  },
  {
   "cell_type": "markdown",
   "metadata": {},
   "source": [
    "## Split into train/test"
   ]
  },
  {
   "cell_type": "code",
   "execution_count": 5,
   "metadata": {
    "collapsed": false
   },
   "outputs": [
    {
     "data": {
      "text/plain": [
       "(1241, 311)"
      ]
     },
     "execution_count": 5,
     "metadata": {},
     "output_type": "execute_result"
    }
   ],
   "source": [
    "random.shuffle(observations)\n",
    "train_set = observations[:int(len(observations)*0.8)]\n",
    "test_set = observations[int(len(observations)*0.8):]\n",
    "len(train_set), len(test_set)"
   ]
  },
  {
   "cell_type": "markdown",
   "metadata": {},
   "source": [
    "## HashingVectorizer and prediction model\n",
    "We'll use a GradientBoosting model because it ought to work pretty well"
   ]
  },
  {
   "cell_type": "code",
   "execution_count": 6,
   "metadata": {
    "collapsed": false
   },
   "outputs": [],
   "source": [
    "hv = HashingVectorizer(n_features=2**16)\n",
    "gbc = GradientBoostingClassifier()"
   ]
  },
  {
   "cell_type": "markdown",
   "metadata": {},
   "source": [
    "## Train the classifier\n",
    "We'll set the \"sample weight\" to be proportionally stronger for \"Anachronism\" because we don't have as many observations."
   ]
  },
  {
   "cell_type": "code",
   "execution_count": 7,
   "metadata": {
    "collapsed": false
   },
   "outputs": [
    {
     "data": {
      "text/plain": [
       "GradientBoostingClassifier(init=None, learning_rate=0.1, loss='deviance',\n",
       "              max_depth=3, max_features=None, max_leaf_nodes=None,\n",
       "              min_samples_leaf=1, min_samples_split=2,\n",
       "              min_weight_fraction_leaf=0.0, n_estimators=100,\n",
       "              presort='auto', random_state=None, subsample=1.0, verbose=0,\n",
       "              warm_start=False)"
      ]
     },
     "execution_count": 7,
     "metadata": {},
     "output_type": "execute_result"
    }
   ],
   "source": [
    "# Training\n",
    "texts, labels_y = zip(*train_set)\n",
    "features_X = hv.transform(texts)\n",
    "gbc.fit(features_X, labels_y, \n",
    "        sample_weight=[119/(119+1433) if l == \"anarchism\" else 1433/(119+1433) for l in labels_y])"
   ]
  },
  {
   "cell_type": "markdown",
   "metadata": {},
   "source": [
    "## Test the classifier\n",
    "This score() method generates a simple accuracy measure.  This result suggest that we can predict ~86% of the test set correctly."
   ]
  },
  {
   "cell_type": "code",
   "execution_count": 8,
   "metadata": {
    "collapsed": false
   },
   "outputs": [
    {
     "data": {
      "text/plain": [
       "0.93890675241157562"
      ]
     },
     "execution_count": 8,
     "metadata": {},
     "output_type": "execute_result"
    }
   ],
   "source": [
    "# Testing\n",
    "texts, labels_y = zip(*test_set)\n",
    "features_X = hv.transform(texts)\n",
    "gbc.score(features_X.todense(), labels_y)"
   ]
  },
  {
   "cell_type": "markdown",
   "metadata": {},
   "source": [
    "Statistics are great, but let's look at some example predictions.  This loop generates predictions "
   ]
  },
  {
   "cell_type": "code",
   "execution_count": 9,
   "metadata": {
    "collapsed": false
   },
   "outputs": [
    {
     "name": "stdout",
     "output_type": "stream",
     "text": [
      "text: ', was one of the first critical theorists of fasci...' \n",
      " \tactual: anarchism \n",
      " \tprediction: {'anarchism': 71, 'anachronism': 28}\n",
      "text: 'Die bayerische Revolution 1918/19: Die erste Räter...' \n",
      " \tactual: anarchism \n",
      " \tprediction: {'anarchism': 54, 'anachronism': 45}\n",
      "text: 'Théorie du corps amoureux : pour une érotique sola...' \n",
      " \tactual: anarchism \n",
      " \tprediction: {'anarchism': 69, 'anachronism': 30}\n",
      "text: ' and where \"business transactions alone produce th...' \n",
      " \tactual: anarchism \n",
      " \tprediction: {'anarchism': 64, 'anachronism': 35}\n",
      "text: 'http://ccaa.elpais.com/ccaa/2016/01/27/madrid/1453...' \n",
      " \tactual: anarchism \n",
      " \tprediction: {'anarchism': 69, 'anachronism': 30}\n",
      "text: 'A Christian Anarchist Critique of Violence: From T...' \n",
      " \tactual: anarchism \n",
      " \tprediction: {'anarchism': 92, 'anachronism': 7}\n",
      "text: '... and for federation of communes). Thus both eco...' \n",
      " \tactual: anarchism \n",
      " \tprediction: {'anarchism': 92, 'anachronism': 7}\n",
      "text: 'million members at one point and playing a major r...' \n",
      " \tactual: anarchism \n",
      " \tprediction: {'anarchism': 64, 'anachronism': 35}\n",
      "text: 'http://www.artinsociety.com/on-the-trail-of-the-la...' \n",
      " \tactual: anachronism \n",
      " \tprediction: {'anarchism': 46, 'anachronism': 53}\n",
      "text: ', Montréal and London 2005. ISBN 1-55164-250-6.\\n...' \n",
      " \tactual: anarchism \n",
      " \tprediction: {'anarchism': 69, 'anachronism': 30}\n"
     ]
    }
   ],
   "source": [
    "for text, label in test_set[:10]:\n",
    "    features_X = hv.transform([text])\n",
    "    print(\"text:\", repr(text[:50] + \"...\"), \"\\n\",\n",
    "          \"\\tactual:\", label, \"\\n\",\n",
    "          \"\\tprediction:\", dict(zip(gbc.classes_, \n",
    "                                    [int(v*100) for v in gbc.predict_proba(features_X.todense())[0]])))\n",
    "    "
   ]
  },
  {
   "cell_type": "markdown",
   "metadata": {
    "collapsed": true
   },
   "source": [
    "## Feature selection\n",
    "Let's build a histogram of the feature importance measurments."
   ]
  },
  {
   "cell_type": "code",
   "execution_count": 10,
   "metadata": {
    "collapsed": false
   },
   "outputs": [
    {
     "data": {
      "text/plain": [
       "<matplotlib.text.Text at 0x7f6c9ca80be0>"
      ]
     },
     "execution_count": 10,
     "metadata": {},
     "output_type": "execute_result"
    },
    {
     "data": {
      "image/png": "[encoded data removed]",
      "text/plain": [
       "<matplotlib.figure.Figure at 0x7f6cb8bf8c18>"
      ]
     },
     "metadata": {},
     "output_type": "display_data"
    }
   ],
   "source": [
    "%matplotlib inline\n",
    "import matplotlib.pyplot as plt\n",
    "\n",
    "plt.hist(gbc.feature_importances_, bins=100, log=True)\n",
    "#plt.semilogy()\n",
    "plt.title(\"Feature importance histogram\")\n",
    "plt.xlabel(\"Value\")\n",
    "plt.ylabel(\"Frequency\")"
   ]
  },
  {
   "cell_type": "code",
   "execution_count": null,
   "metadata": {
    "collapsed": true
   },
   "outputs": [],
   "source": []
  }
 ],
 "metadata": {
  "kernelspec": {
   "display_name": "Python 3",
   "language": "python",
   "name": "python3"
  },
  "language_info": {
   "codemirror_mode": {
    "name": "ipython",
    "version": 3
   },
   "file_extension": ".py",
   "mimetype": "text/x-python",
   "name": "python",
   "nbconvert_exporter": "python",
   "pygments_lexer": "ipython3",
   "version": "3.4.3"
  }
 },
 "nbformat": 4,
 "nbformat_minor": 0
}
