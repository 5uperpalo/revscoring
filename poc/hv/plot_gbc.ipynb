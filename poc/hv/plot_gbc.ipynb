{
 "cells": [
  {
   "cell_type": "code",
   "execution_count": 18,
   "metadata": {
    "collapsed": false
   },
   "outputs": [],
   "source": [
    "%matplotlib inline\n",
    "from sklearn.externals import joblib\n",
    "import matplotlib.pyplot as plt"
   ]
  },
  {
   "cell_type": "code",
   "execution_count": 19,
   "metadata": {
    "collapsed": true
   },
   "outputs": [],
   "source": [
    "gbc = joblib.load('model_pickled/gbc.pkl')"
   ]
  },
  {
   "cell_type": "code",
   "execution_count": 20,
   "metadata": {
    "collapsed": false
   },
   "outputs": [
    {
     "data": {
      "text/plain": [
       "<matplotlib.text.Text at 0x7f588d97c898>"
      ]
     },
     "execution_count": 20,
     "metadata": {},
     "output_type": "execute_result"
    },
    {
     "data": {
      "image/png": "[encoded data removed]",
      "text/plain": [
       "<matplotlib.figure.Figure at 0x7f588d9f84a8>"
      ]
     },
     "metadata": {},
     "output_type": "display_data"
    }
   ],
   "source": [
    "plt.hist(gbc.feature_importances_, bins=100, log=True)\n",
    "plt.title(\"Feature importance histogram\")\n",
    "plt.xlabel(\"Value\")\n",
    "plt.ylabel(\"Frequency\")"
   ]
  },
  {
   "cell_type": "code",
   "execution_count": 21,
   "metadata": {
    "collapsed": true
   },
   "outputs": [],
   "source": [
    "from sklearn.feature_selection import SelectFromModel"
   ]
  },
  {
   "cell_type": "code",
   "execution_count": 22,
   "metadata": {
    "collapsed": true
   },
   "outputs": [],
   "source": [
    "sfm = SelectFromModel(gbc, threshold=0.0005, prefit=True)"
   ]
  },
  {
   "cell_type": "code",
   "execution_count": 23,
   "metadata": {
    "collapsed": false
   },
   "outputs": [],
   "source": [
    "features = sfm.get_support(indices=True)"
   ]
  },
  {
   "cell_type": "code",
   "execution_count": 24,
   "metadata": {
    "collapsed": false
   },
   "outputs": [
    {
     "data": {
      "text/plain": [
       "375"
      ]
     },
     "execution_count": 24,
     "metadata": {},
     "output_type": "execute_result"
    }
   ],
   "source": [
    "len(features)"
   ]
  },
  {
   "cell_type": "code",
   "execution_count": 25,
   "metadata": {
    "collapsed": false
   },
   "outputs": [
    {
     "data": {
      "text/plain": [
       "array([    864,    7496,    7920,    8457,   16189,   17003,   18204,\n",
       "         20023,   21444,   22107,   26523,   27259,   28696,   28869,\n",
       "         28988,   29926,   32615,   36070,   44285,   45167,   45497,\n",
       "         45875,   48144,   50630,   60869,   61846,   61857,   62831,\n",
       "         64737,   64758,   68037,   71362,   72847,   72884,   77761,\n",
       "         78465,   83684,   86077,   89999,   98369,  100060,  100946,\n",
       "        101870,  104122,  108632,  111985,  112243,  114899,  118701,\n",
       "        123365,  127771,  136748,  142968,  144659,  144749,  147464,\n",
       "        150683,  152071,  155956,  161049,  162652,  168991,  170062,\n",
       "        174171,  175416,  176358,  178165,  178442,  180525,  183669,\n",
       "        186579,  186642,  189321,  194741,  194751,  198170,  200436,\n",
       "        201873,  206810,  206998,  209319,  212628,  217215,  219465,\n",
       "        220747,  222313,  224073,  227013,  227261,  229598,  233318,\n",
       "        238745,  244473,  248351,  253495,  253681,  254419,  257063,\n",
       "        259207,  260233,  261985,  265503,  278231,  286878,  287383,\n",
       "        288387,  288869,  290091,  290475,  301834,  302201,  310949,\n",
       "        312887,  323450,  325313,  329790,  329822,  330565,  338809,\n",
       "        342449,  342564,  345010,  355607,  360233,  360502,  361590,\n",
       "        366226,  366521,  367808,  369542,  369797,  371755,  373013,\n",
       "        379268,  384211,  395659,  396642,  396892,  398615,  403614,\n",
       "        405335,  410202,  410302,  411361,  415230,  417839,  420495,\n",
       "        423075,  423726,  424749,  432844,  435055,  435390,  439967,\n",
       "        442388,  447656,  453779,  456901,  458403,  465694,  468224,\n",
       "        468965,  471043,  471378,  479532,  482250,  485631,  487855,\n",
       "        490642,  491168,  492301,  493510,  505782,  510525,  512582,\n",
       "        513024,  519541,  520068,  522004,  522581,  523058,  524346,\n",
       "        524549,  530290,  530320,  533337,  536296,  536306,  537432,\n",
       "        538781,  540465,  543139,  544635,  549322,  551718,  552208,\n",
       "        554005,  554067,  554506,  555581,  566352,  572780,  574647,\n",
       "        575733,  576795,  578070,  578090,  582430,  584534,  587268,\n",
       "        587599,  594111,  594489,  595314,  599895,  601472,  602205,\n",
       "        604625,  608826,  611666,  614427,  615968,  619490,  625897,\n",
       "        627979,  633073,  636856,  637413,  639229,  657121,  659227,\n",
       "        659925,  660566,  661528,  661692,  663010,  666682,  667944,\n",
       "        670378,  674020,  674118,  675102,  675997,  683318,  686826,\n",
       "        688677,  691517,  694644,  697059,  698209,  702882,  703636,\n",
       "        704732,  705940,  710349,  713170,  713859,  715375,  717892,\n",
       "        724159,  725981,  726492,  728435,  730462,  732650,  733099,\n",
       "        735948,  740189,  741852,  745406,  759461,  763965,  764163,\n",
       "        765284,  768698,  769108,  770803,  777182,  777676,  778359,\n",
       "        782117,  785668,  785770,  789382,  789812,  790099,  790269,\n",
       "        796789,  798109,  802759,  806681,  812471,  814572,  814757,\n",
       "        817604,  819655,  819697,  824209,  825493,  828689,  831271,\n",
       "        835120,  842826,  846328,  849345,  849458,  852220,  854127,\n",
       "        858264,  858902,  859162,  859553,  861826,  864933,  865514,\n",
       "        866540,  870686,  871771,  871832,  876242,  878118,  881211,\n",
       "        883243,  887295,  897209,  899868,  900432,  902963,  903126,\n",
       "        904208,  904629,  908667,  909266,  909725,  913601,  913714,\n",
       "        914603,  920124,  921834,  922351,  926068,  930443,  935844,\n",
       "        936728,  939972,  946178,  947382,  948532,  951959,  957289,\n",
       "        957896,  958734,  962558,  973577,  974900,  978097,  983235,\n",
       "        984502,  985860,  989160,  995511,  997720,  998174,  998853,\n",
       "       1000717, 1000953, 1003019, 1003109, 1019624, 1030567, 1030592,\n",
       "       1035069, 1041853, 1043406, 1044663])"
      ]
     },
     "execution_count": 25,
     "metadata": {},
     "output_type": "execute_result"
    }
   ],
   "source": [
    "features"
   ]
  },
  {
   "cell_type": "code",
   "execution_count": null,
   "metadata": {
    "collapsed": true
   },
   "outputs": [],
   "source": []
  }
 ],
 "metadata": {
  "kernelspec": {
   "display_name": "Python 3",
   "language": "python",
   "name": "python3"
  },
  "language_info": {
   "codemirror_mode": {
    "name": "ipython",
    "version": 3
   },
   "file_extension": ".py",
   "mimetype": "text/x-python",
   "name": "python",
   "nbconvert_exporter": "python",
   "pygments_lexer": "ipython3",
   "version": "3.4.3"
  }
 },
 "nbformat": 4,
 "nbformat_minor": 1
}
