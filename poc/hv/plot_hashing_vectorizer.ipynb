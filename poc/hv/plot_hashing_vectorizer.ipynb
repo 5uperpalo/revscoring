%matplotlib inline
from sklearn.externals import joblib
import matplotlib.pyplot as plt

gbc = joblib.load('model_pickled/gbc.pkl')
plt.hist(gbc.feature_importances_, bins=100, log=True)
#plt.semilogy()
plt.title("Feature importance histogram")
plt.xlabel("Value")
plt.ylabel("Frequency")